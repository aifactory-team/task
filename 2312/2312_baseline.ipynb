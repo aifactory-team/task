{
  "nbformat": 4,
  "nbformat_minor": 0,
  "metadata": {
    "colab": {
      "provenance": []
    },
    "kernelspec": {
      "name": "python3",
      "display_name": "Python 3"
    },
    "accelerator": "GPU"
  },
  "cells": [
    {
      "cell_type": "code",
      "metadata": {
        "id": "bMkktOVx4JMM"
      },
      "source": [
        "from keras.utils import np_utils\n",
        "from keras.datasets import fashion_mnist\n",
        "from keras.models import Sequential\n",
        "from keras.layers import Dense, Activation\n",
        "import numpy as np"
      ],
      "execution_count": 1,
      "outputs": []
    },
    {
      "cell_type": "code",
      "source": [
        "np.random.seed(3)\n",
        "\n",
        "# 1. 데이터셋 준비하기\n",
        "\n",
        "# 훈련셋과 시험셋 로딩\n",
        "(X_train, Y_train), (X_test, Y_test) = fashion_mnist.load_data()\n",
        "\n",
        "X_train = X_train.reshape(60000, 784).astype('float32') / 255.0\n",
        "X_test = X_test.reshape(10000, 784).astype('float32') / 255.0"
      ],
      "metadata": {
        "id": "ChYwMsTUdlba",
        "colab": {
          "base_uri": "https://localhost:8080/"
        },
        "outputId": "30eb3bb5-8f73-43e6-e81f-9fd6d23e0a68"
      },
      "execution_count": 2,
      "outputs": [
        {
          "output_type": "stream",
          "name": "stdout",
          "text": [
            "Downloading data from https://storage.googleapis.com/tensorflow/tf-keras-datasets/train-labels-idx1-ubyte.gz\n",
            "29515/29515 [==============================] - 0s 0us/step\n",
            "Downloading data from https://storage.googleapis.com/tensorflow/tf-keras-datasets/train-images-idx3-ubyte.gz\n",
            "26421880/26421880 [==============================] - 1s 0us/step\n",
            "Downloading data from https://storage.googleapis.com/tensorflow/tf-keras-datasets/t10k-labels-idx1-ubyte.gz\n",
            "5148/5148 [==============================] - 0s 0us/step\n",
            "Downloading data from https://storage.googleapis.com/tensorflow/tf-keras-datasets/t10k-images-idx3-ubyte.gz\n",
            "4422102/4422102 [==============================] - 0s 0us/step\n"
          ]
        }
      ]
    },
    {
      "cell_type": "code",
      "source": [
        "# 라벨링 전환\n",
        "Y_train = np_utils.to_categorical(Y_train)\n",
        "Y_test = np_utils.to_categorical(Y_test)"
      ],
      "metadata": {
        "id": "Y0t-XKYFd4l-"
      },
      "execution_count": 3,
      "outputs": []
    },
    {
      "cell_type": "code",
      "source": [
        "# 2. 모델 구성하기\n",
        "model = Sequential()\n",
        "model.add(Dense(units=32, input_dim=28*28, activation='relu'))\n",
        "model.add(Dense(units=10, activation='softmax'))"
      ],
      "metadata": {
        "id": "JIlra8HXd_4s"
      },
      "execution_count": 4,
      "outputs": []
    },
    {
      "cell_type": "code",
      "source": [
        "# 3. 모델 엮기\n",
        "model.compile(loss='categorical_crossentropy', optimizer='sgd', metrics=['accuracy'])"
      ],
      "metadata": {
        "id": "RpPF9lLMeBXO"
      },
      "execution_count": 5,
      "outputs": []
    },
    {
      "cell_type": "code",
      "source": [
        "# 4. 모델 학습시키기\n",
        "hist = model.fit(X_train, Y_train, epochs=100, batch_size=32)"
      ],
      "metadata": {
        "colab": {
          "base_uri": "https://localhost:8080/"
        },
        "id": "2TwQxuIZeCyp",
        "outputId": "4fc84794-fe7b-4092-8398-7d8b4eda255f"
      },
      "execution_count": 6,
      "outputs": [
        {
          "output_type": "stream",
          "name": "stdout",
          "text": [
            "Epoch 1/100\n",
            "1875/1875 [==============================] - 10s 3ms/step - loss: 0.8367 - accuracy: 0.7282\n",
            "Epoch 2/100\n",
            "1875/1875 [==============================] - 6s 3ms/step - loss: 0.5356 - accuracy: 0.8182\n",
            "Epoch 3/100\n",
            "1875/1875 [==============================] - 5s 3ms/step - loss: 0.4849 - accuracy: 0.8320\n",
            "Epoch 4/100\n",
            "1875/1875 [==============================] - 5s 3ms/step - loss: 0.4595 - accuracy: 0.8409\n",
            "Epoch 5/100\n",
            "1875/1875 [==============================] - 6s 3ms/step - loss: 0.4428 - accuracy: 0.8454\n",
            "Epoch 6/100\n",
            "1875/1875 [==============================] - 5s 3ms/step - loss: 0.4296 - accuracy: 0.8512\n",
            "Epoch 7/100\n",
            "1875/1875 [==============================] - 6s 3ms/step - loss: 0.4200 - accuracy: 0.8531\n",
            "Epoch 8/100\n",
            "1875/1875 [==============================] - 9s 5ms/step - loss: 0.4115 - accuracy: 0.8570\n",
            "Epoch 9/100\n",
            "1875/1875 [==============================] - 7s 4ms/step - loss: 0.4045 - accuracy: 0.8597\n",
            "Epoch 10/100\n",
            "1875/1875 [==============================] - 10s 5ms/step - loss: 0.3976 - accuracy: 0.8611\n",
            "Epoch 11/100\n",
            "1875/1875 [==============================] - 8s 4ms/step - loss: 0.3928 - accuracy: 0.8633\n",
            "Epoch 12/100\n",
            "1875/1875 [==============================] - 7s 4ms/step - loss: 0.3862 - accuracy: 0.8648\n",
            "Epoch 13/100\n",
            "1875/1875 [==============================] - 5s 3ms/step - loss: 0.3813 - accuracy: 0.8662\n",
            "Epoch 14/100\n",
            "1875/1875 [==============================] - 7s 4ms/step - loss: 0.3762 - accuracy: 0.8673\n",
            "Epoch 15/100\n",
            "1875/1875 [==============================] - 5s 3ms/step - loss: 0.3732 - accuracy: 0.8693\n",
            "Epoch 16/100\n",
            "1875/1875 [==============================] - 6s 3ms/step - loss: 0.3687 - accuracy: 0.8704\n",
            "Epoch 17/100\n",
            "1875/1875 [==============================] - 6s 3ms/step - loss: 0.3647 - accuracy: 0.8718\n",
            "Epoch 18/100\n",
            "1875/1875 [==============================] - 8s 4ms/step - loss: 0.3605 - accuracy: 0.8734\n",
            "Epoch 19/100\n",
            "1875/1875 [==============================] - 7s 4ms/step - loss: 0.3569 - accuracy: 0.8739\n",
            "Epoch 20/100\n",
            "1875/1875 [==============================] - 9s 5ms/step - loss: 0.3538 - accuracy: 0.8763\n",
            "Epoch 21/100\n",
            "1875/1875 [==============================] - 5s 3ms/step - loss: 0.3508 - accuracy: 0.8765\n",
            "Epoch 22/100\n",
            "1875/1875 [==============================] - 6s 3ms/step - loss: 0.3476 - accuracy: 0.8781\n",
            "Epoch 23/100\n",
            "1875/1875 [==============================] - 5s 3ms/step - loss: 0.3440 - accuracy: 0.8804\n",
            "Epoch 24/100\n",
            "1875/1875 [==============================] - 6s 3ms/step - loss: 0.3410 - accuracy: 0.8798\n",
            "Epoch 25/100\n",
            "1875/1875 [==============================] - 5s 3ms/step - loss: 0.3387 - accuracy: 0.8802\n",
            "Epoch 26/100\n",
            "1875/1875 [==============================] - 6s 3ms/step - loss: 0.3362 - accuracy: 0.8811\n",
            "Epoch 27/100\n",
            "1875/1875 [==============================] - 5s 3ms/step - loss: 0.3339 - accuracy: 0.8814\n",
            "Epoch 28/100\n",
            "1875/1875 [==============================] - 5s 3ms/step - loss: 0.3310 - accuracy: 0.8837\n",
            "Epoch 29/100\n",
            "1875/1875 [==============================] - 5s 3ms/step - loss: 0.3284 - accuracy: 0.8841\n",
            "Epoch 30/100\n",
            "1875/1875 [==============================] - 5s 3ms/step - loss: 0.3264 - accuracy: 0.8848\n",
            "Epoch 31/100\n",
            "1875/1875 [==============================] - 6s 3ms/step - loss: 0.3241 - accuracy: 0.8851\n",
            "Epoch 32/100\n",
            "1875/1875 [==============================] - 5s 3ms/step - loss: 0.3218 - accuracy: 0.8866\n",
            "Epoch 33/100\n",
            "1875/1875 [==============================] - 5s 3ms/step - loss: 0.3190 - accuracy: 0.8871\n",
            "Epoch 34/100\n",
            "1875/1875 [==============================] - 6s 3ms/step - loss: 0.3176 - accuracy: 0.8878\n",
            "Epoch 35/100\n",
            "1875/1875 [==============================] - 5s 3ms/step - loss: 0.3161 - accuracy: 0.8888\n",
            "Epoch 36/100\n",
            "1875/1875 [==============================] - 6s 3ms/step - loss: 0.3136 - accuracy: 0.8887\n",
            "Epoch 37/100\n",
            "1875/1875 [==============================] - 5s 3ms/step - loss: 0.3113 - accuracy: 0.8897\n",
            "Epoch 38/100\n",
            "1875/1875 [==============================] - 6s 3ms/step - loss: 0.3099 - accuracy: 0.8899\n",
            "Epoch 39/100\n",
            "1875/1875 [==============================] - 5s 3ms/step - loss: 0.3082 - accuracy: 0.8908\n",
            "Epoch 40/100\n",
            "1875/1875 [==============================] - 6s 3ms/step - loss: 0.3065 - accuracy: 0.8923\n",
            "Epoch 41/100\n",
            "1875/1875 [==============================] - 5s 3ms/step - loss: 0.3037 - accuracy: 0.8917\n",
            "Epoch 42/100\n",
            "1875/1875 [==============================] - 5s 3ms/step - loss: 0.3025 - accuracy: 0.8927\n",
            "Epoch 43/100\n",
            "1875/1875 [==============================] - 6s 3ms/step - loss: 0.3015 - accuracy: 0.8931\n",
            "Epoch 44/100\n",
            "1875/1875 [==============================] - 5s 3ms/step - loss: 0.2992 - accuracy: 0.8934\n",
            "Epoch 45/100\n",
            "1875/1875 [==============================] - 6s 3ms/step - loss: 0.2974 - accuracy: 0.8950\n",
            "Epoch 46/100\n",
            "1875/1875 [==============================] - 5s 3ms/step - loss: 0.2960 - accuracy: 0.8955\n",
            "Epoch 47/100\n",
            "1875/1875 [==============================] - 5s 3ms/step - loss: 0.2949 - accuracy: 0.8950\n",
            "Epoch 48/100\n",
            "1875/1875 [==============================] - 6s 3ms/step - loss: 0.2937 - accuracy: 0.8949\n",
            "Epoch 49/100\n",
            "1875/1875 [==============================] - 5s 3ms/step - loss: 0.2924 - accuracy: 0.8971\n",
            "Epoch 50/100\n",
            "1875/1875 [==============================] - 6s 3ms/step - loss: 0.2908 - accuracy: 0.8962\n",
            "Epoch 51/100\n",
            "1875/1875 [==============================] - 5s 3ms/step - loss: 0.2896 - accuracy: 0.8965\n",
            "Epoch 52/100\n",
            "1875/1875 [==============================] - 6s 3ms/step - loss: 0.2882 - accuracy: 0.8974\n",
            "Epoch 53/100\n",
            "1875/1875 [==============================] - 5s 3ms/step - loss: 0.2868 - accuracy: 0.8967\n",
            "Epoch 54/100\n",
            "1875/1875 [==============================] - 5s 3ms/step - loss: 0.2855 - accuracy: 0.8985\n",
            "Epoch 55/100\n",
            "1875/1875 [==============================] - 5s 3ms/step - loss: 0.2840 - accuracy: 0.8995\n",
            "Epoch 56/100\n",
            "1875/1875 [==============================] - 5s 3ms/step - loss: 0.2826 - accuracy: 0.8990\n",
            "Epoch 57/100\n",
            "1875/1875 [==============================] - 6s 3ms/step - loss: 0.2816 - accuracy: 0.9000\n",
            "Epoch 58/100\n",
            "1875/1875 [==============================] - 5s 3ms/step - loss: 0.2811 - accuracy: 0.8999\n",
            "Epoch 59/100\n",
            "1875/1875 [==============================] - 6s 3ms/step - loss: 0.2792 - accuracy: 0.9008\n",
            "Epoch 60/100\n",
            "1875/1875 [==============================] - 5s 3ms/step - loss: 0.2786 - accuracy: 0.9006\n",
            "Epoch 61/100\n",
            "1875/1875 [==============================] - 5s 3ms/step - loss: 0.2770 - accuracy: 0.9018\n",
            "Epoch 62/100\n",
            "1875/1875 [==============================] - 6s 3ms/step - loss: 0.2757 - accuracy: 0.9015\n",
            "Epoch 63/100\n",
            "1875/1875 [==============================] - 5s 3ms/step - loss: 0.2752 - accuracy: 0.9015\n",
            "Epoch 64/100\n",
            "1875/1875 [==============================] - 6s 3ms/step - loss: 0.2738 - accuracy: 0.9020\n",
            "Epoch 65/100\n",
            "1875/1875 [==============================] - 5s 3ms/step - loss: 0.2725 - accuracy: 0.9030\n",
            "Epoch 66/100\n",
            "1875/1875 [==============================] - 6s 3ms/step - loss: 0.2718 - accuracy: 0.9024\n",
            "Epoch 67/100\n",
            "1875/1875 [==============================] - 7s 3ms/step - loss: 0.2705 - accuracy: 0.9032\n",
            "Epoch 68/100\n",
            "1875/1875 [==============================] - 7s 4ms/step - loss: 0.2698 - accuracy: 0.9033\n",
            "Epoch 69/100\n",
            "1875/1875 [==============================] - 6s 3ms/step - loss: 0.2688 - accuracy: 0.9043\n",
            "Epoch 70/100\n",
            "1875/1875 [==============================] - 7s 3ms/step - loss: 0.2673 - accuracy: 0.9040\n",
            "Epoch 71/100\n",
            "1875/1875 [==============================] - 7s 4ms/step - loss: 0.2664 - accuracy: 0.9042\n",
            "Epoch 72/100\n",
            "1875/1875 [==============================] - 6s 3ms/step - loss: 0.2659 - accuracy: 0.9048\n",
            "Epoch 73/100\n",
            "1875/1875 [==============================] - 6s 3ms/step - loss: 0.2647 - accuracy: 0.9052\n",
            "Epoch 74/100\n",
            "1875/1875 [==============================] - 7s 4ms/step - loss: 0.2641 - accuracy: 0.9053\n",
            "Epoch 75/100\n",
            "1875/1875 [==============================] - 6s 3ms/step - loss: 0.2627 - accuracy: 0.9057\n",
            "Epoch 76/100\n",
            "1875/1875 [==============================] - 6s 3ms/step - loss: 0.2624 - accuracy: 0.9071\n",
            "Epoch 77/100\n",
            "1875/1875 [==============================] - 5s 3ms/step - loss: 0.2611 - accuracy: 0.9060\n",
            "Epoch 78/100\n",
            "1875/1875 [==============================] - 7s 4ms/step - loss: 0.2606 - accuracy: 0.9066\n",
            "Epoch 79/100\n",
            "1875/1875 [==============================] - 6s 3ms/step - loss: 0.2599 - accuracy: 0.9058\n",
            "Epoch 80/100\n",
            "1875/1875 [==============================] - 7s 4ms/step - loss: 0.2584 - accuracy: 0.9078\n",
            "Epoch 81/100\n",
            "1875/1875 [==============================] - 6s 3ms/step - loss: 0.2577 - accuracy: 0.9081\n",
            "Epoch 82/100\n",
            "1875/1875 [==============================] - 7s 4ms/step - loss: 0.2566 - accuracy: 0.9076\n",
            "Epoch 83/100\n",
            "1875/1875 [==============================] - 5s 3ms/step - loss: 0.2564 - accuracy: 0.9077\n",
            "Epoch 84/100\n",
            "1875/1875 [==============================] - 6s 3ms/step - loss: 0.2550 - accuracy: 0.9089\n",
            "Epoch 85/100\n",
            "1875/1875 [==============================] - 5s 3ms/step - loss: 0.2549 - accuracy: 0.9089\n",
            "Epoch 86/100\n",
            "1875/1875 [==============================] - 5s 3ms/step - loss: 0.2537 - accuracy: 0.9088\n",
            "Epoch 87/100\n",
            "1875/1875 [==============================] - 6s 3ms/step - loss: 0.2529 - accuracy: 0.9096\n",
            "Epoch 88/100\n",
            "1875/1875 [==============================] - 5s 3ms/step - loss: 0.2520 - accuracy: 0.9094\n",
            "Epoch 89/100\n",
            "1875/1875 [==============================] - 6s 3ms/step - loss: 0.2515 - accuracy: 0.9099\n",
            "Epoch 90/100\n",
            "1875/1875 [==============================] - 5s 3ms/step - loss: 0.2512 - accuracy: 0.9102\n",
            "Epoch 91/100\n",
            "1875/1875 [==============================] - 5s 3ms/step - loss: 0.2505 - accuracy: 0.9099\n",
            "Epoch 92/100\n",
            "1875/1875 [==============================] - 6s 3ms/step - loss: 0.2493 - accuracy: 0.9112\n",
            "Epoch 93/100\n",
            "1875/1875 [==============================] - 5s 3ms/step - loss: 0.2488 - accuracy: 0.9110\n",
            "Epoch 94/100\n",
            "1875/1875 [==============================] - 7s 4ms/step - loss: 0.2478 - accuracy: 0.9115\n",
            "Epoch 95/100\n",
            "1875/1875 [==============================] - 6s 3ms/step - loss: 0.2470 - accuracy: 0.9111\n",
            "Epoch 96/100\n",
            "1875/1875 [==============================] - 7s 4ms/step - loss: 0.2469 - accuracy: 0.9115\n",
            "Epoch 97/100\n",
            "1875/1875 [==============================] - 6s 3ms/step - loss: 0.2461 - accuracy: 0.9120\n",
            "Epoch 98/100\n",
            "1875/1875 [==============================] - 7s 4ms/step - loss: 0.2444 - accuracy: 0.9125\n",
            "Epoch 99/100\n",
            "1875/1875 [==============================] - 6s 3ms/step - loss: 0.2440 - accuracy: 0.9122\n",
            "Epoch 100/100\n",
            "1875/1875 [==============================] - 6s 3ms/step - loss: 0.2440 - accuracy: 0.9128\n"
          ]
        }
      ]
    },
    {
      "cell_type": "code",
      "source": [
        "# 5. 모델 학습 과정 표시하기\n",
        "%matplotlib inline\n",
        "import matplotlib.pyplot as plt\n",
        "\n",
        "fig, loss_ax = plt.subplots()\n",
        "\n",
        "acc_ax = loss_ax.twinx()\n",
        "\n",
        "loss_ax.plot(hist.history['loss'], 'y', label='train loss')\n",
        "acc_ax.plot(hist.history['accuracy'], 'b', label='train acc')\n",
        "\n",
        "loss_ax.set_xlabel('epoch')\n",
        "loss_ax.set_ylabel('loss')\n",
        "acc_ax.set_ylabel('accuray')\n",
        "\n",
        "loss_ax.legend(loc='upper left')\n",
        "acc_ax.legend(loc='lower left')\n",
        "\n",
        "plt.show()"
      ],
      "metadata": {
        "colab": {
          "base_uri": "https://localhost:8080/",
          "height": 279
        },
        "id": "UUhMjN6beFLN",
        "outputId": "56f45088-866c-4bb8-f138-c7af3074808b"
      },
      "execution_count": 7,
      "outputs": [
        {
          "output_type": "display_data",
          "data": {
            "text/plain": [
              "<Figure size 432x288 with 2 Axes>"
            ],
            "image/png": "[encoded data removed]"
          },
          "metadata": {
            "needs_background": "light"
          }
        }
      ]
    },
    {
      "cell_type": "code",
      "metadata": {
        "id": "0CTMBuWx4MDd"
      },
      "source": [
        "np.random.seed(3)\n",
        "\n",
        "# 1. 데이터셋 준비하기\n",
        "\n",
        "# 훈련셋과 시험셋 로딩\n",
        "(X_train, Y_train), (X_test, Y_test) = fashion_mnist.load_data()\n",
        "\n",
        "# 훈련셋과 검증셋 분리\n",
        "X_val = X_train[100:]\n",
        "Y_val = Y_train[100:]\n",
        "X_train = X_train[:100]\n",
        "Y_train = Y_train[:100]\n",
        "\n",
        "X_train = X_train.reshape(100, 784).astype('float32') / 255.0\n",
        "X_val = X_val.reshape(59900, 784).astype('float32') / 255.0\n",
        "X_test = X_test.reshape(10000, 784).astype('float32') / 255.0"
      ],
      "execution_count": 8,
      "outputs": []
    },
    {
      "cell_type": "code",
      "metadata": {
        "id": "_1UnSu1N4MQ8"
      },
      "source": [
        "# 라벨링 전환\n",
        "Y_train = np_utils.to_categorical(Y_train)\n",
        "Y_val = np_utils.to_categorical(Y_val)\n",
        "Y_test = np_utils.to_categorical(Y_test)"
      ],
      "execution_count": 9,
      "outputs": []
    },
    {
      "cell_type": "code",
      "metadata": {
        "id": "u5Ghy98W4MYy"
      },
      "source": [
        "# 2. 모델 구성하기\n",
        "model = Sequential()\n",
        "model.add(Dense(units=32, input_dim=28*28, activation='relu'))\n",
        "model.add(Dense(units=10, activation='softmax'))"
      ],
      "execution_count": 10,
      "outputs": []
    },
    {
      "cell_type": "code",
      "metadata": {
        "id": "FIqBuxs74Mf0"
      },
      "source": [
        "# 3. 모델 엮기\n",
        "model.compile(loss='categorical_crossentropy', optimizer='sgd', metrics=['accuracy'])"
      ],
      "execution_count": 11,
      "outputs": []
    },
    {
      "cell_type": "code",
      "metadata": {
        "id": "rrYBsx1H4Mlq",
        "colab": {
          "base_uri": "https://localhost:8080/"
        },
        "outputId": "f5f95989-cad1-4fd1-c358-7eca2c17ab27"
      },
      "source": [
        "# 4. 모델 학습시키기\n",
        "hist = model.fit(X_train, Y_train, epochs=100, batch_size=32, validation_data=(X_val, Y_val))"
      ],
      "execution_count": 12,
      "outputs": [
        {
          "output_type": "stream",
          "name": "stdout",
          "text": [
            "Epoch 1/100\n",
            "4/4 [==============================] - 6s 2s/step - loss: 2.3999 - accuracy: 0.0400 - val_loss: 2.3542 - val_accuracy: 0.0776\n",
            "Epoch 2/100\n",
            "4/4 [==============================] - 5s 2s/step - loss: 2.2732 - accuracy: 0.1100 - val_loss: 2.3022 - val_accuracy: 0.1304\n",
            "Epoch 3/100\n",
            "4/4 [==============================] - 5s 2s/step - loss: 2.2050 - accuracy: 0.2300 - val_loss: 2.2741 - val_accuracy: 0.1774\n",
            "Epoch 4/100\n",
            "4/4 [==============================] - 3s 1s/step - loss: 2.1639 - accuracy: 0.3200 - val_loss: 2.2656 - val_accuracy: 0.2028\n",
            "Epoch 5/100\n",
            "4/4 [==============================] - 4s 1s/step - loss: 2.1100 - accuracy: 0.3100 - val_loss: 2.2101 - val_accuracy: 0.2361\n",
            "Epoch 6/100\n",
            "4/4 [==============================] - 5s 2s/step - loss: 2.0523 - accuracy: 0.3700 - val_loss: 2.1802 - val_accuracy: 0.2443\n",
            "Epoch 7/100\n",
            "4/4 [==============================] - 5s 2s/step - loss: 2.0063 - accuracy: 0.3500 - val_loss: 2.1550 - val_accuracy: 0.2651\n",
            "Epoch 8/100\n",
            "4/4 [==============================] - 5s 2s/step - loss: 1.9737 - accuracy: 0.3900 - val_loss: 2.1775 - val_accuracy: 0.2627\n",
            "Epoch 9/100\n",
            "4/4 [==============================] - 4s 1s/step - loss: 1.9618 - accuracy: 0.4100 - val_loss: 2.1369 - val_accuracy: 0.2638\n",
            "Epoch 10/100\n",
            "4/4 [==============================] - 4s 1s/step - loss: 1.9005 - accuracy: 0.4100 - val_loss: 2.0859 - val_accuracy: 0.2689\n",
            "Epoch 11/100\n",
            "4/4 [==============================] - 5s 2s/step - loss: 1.8549 - accuracy: 0.4200 - val_loss: 2.0620 - val_accuracy: 0.2597\n",
            "Epoch 12/100\n",
            "4/4 [==============================] - 4s 1s/step - loss: 1.8240 - accuracy: 0.3800 - val_loss: 2.0543 - val_accuracy: 0.2616\n",
            "Epoch 13/100\n",
            "4/4 [==============================] - 4s 1s/step - loss: 1.8106 - accuracy: 0.3500 - val_loss: 2.0016 - val_accuracy: 0.3208\n",
            "Epoch 14/100\n",
            "4/4 [==============================] - 5s 2s/step - loss: 1.7588 - accuracy: 0.4600 - val_loss: 1.9724 - val_accuracy: 0.3500\n",
            "Epoch 15/100\n",
            "4/4 [==============================] - 4s 1s/step - loss: 1.7300 - accuracy: 0.5300 - val_loss: 1.9343 - val_accuracy: 0.3370\n",
            "Epoch 16/100\n",
            "4/4 [==============================] - 5s 2s/step - loss: 1.7097 - accuracy: 0.4800 - val_loss: 1.9406 - val_accuracy: 0.3260\n",
            "Epoch 17/100\n",
            "4/4 [==============================] - 3s 1s/step - loss: 1.6783 - accuracy: 0.5200 - val_loss: 1.9094 - val_accuracy: 0.3602\n",
            "Epoch 18/100\n",
            "4/4 [==============================] - 3s 1s/step - loss: 1.6431 - accuracy: 0.5400 - val_loss: 1.8940 - val_accuracy: 0.3863\n",
            "Epoch 19/100\n",
            "4/4 [==============================] - 4s 1s/step - loss: 1.6214 - accuracy: 0.5500 - val_loss: 1.8766 - val_accuracy: 0.4333\n",
            "Epoch 20/100\n",
            "4/4 [==============================] - 4s 1s/step - loss: 1.5949 - accuracy: 0.5800 - val_loss: 1.8357 - val_accuracy: 0.4270\n",
            "Epoch 21/100\n",
            "4/4 [==============================] - 5s 2s/step - loss: 1.5649 - accuracy: 0.5700 - val_loss: 1.8226 - val_accuracy: 0.4300\n",
            "Epoch 22/100\n",
            "4/4 [==============================] - 6s 2s/step - loss: 1.5439 - accuracy: 0.5800 - val_loss: 1.7986 - val_accuracy: 0.4339\n",
            "Epoch 23/100\n",
            "4/4 [==============================] - 5s 2s/step - loss: 1.5171 - accuracy: 0.5600 - val_loss: 1.7978 - val_accuracy: 0.4232\n",
            "Epoch 24/100\n",
            "4/4 [==============================] - 5s 2s/step - loss: 1.5004 - accuracy: 0.5700 - val_loss: 1.7715 - val_accuracy: 0.4375\n",
            "Epoch 25/100\n",
            "4/4 [==============================] - 5s 2s/step - loss: 1.4668 - accuracy: 0.5800 - val_loss: 1.7461 - val_accuracy: 0.4290\n",
            "Epoch 26/100\n",
            "4/4 [==============================] - 4s 1s/step - loss: 1.4435 - accuracy: 0.5800 - val_loss: 1.7256 - val_accuracy: 0.4613\n",
            "Epoch 27/100\n",
            "4/4 [==============================] - 5s 2s/step - loss: 1.4178 - accuracy: 0.6100 - val_loss: 1.7088 - val_accuracy: 0.4543\n",
            "Epoch 28/100\n",
            "4/4 [==============================] - 5s 2s/step - loss: 1.4005 - accuracy: 0.5900 - val_loss: 1.6881 - val_accuracy: 0.4684\n",
            "Epoch 29/100\n",
            "4/4 [==============================] - 5s 2s/step - loss: 1.3720 - accuracy: 0.6200 - val_loss: 1.7146 - val_accuracy: 0.3946\n",
            "Epoch 30/100\n",
            "4/4 [==============================] - 5s 2s/step - loss: 1.3633 - accuracy: 0.5600 - val_loss: 1.6526 - val_accuracy: 0.4735\n",
            "Epoch 31/100\n",
            "4/4 [==============================] - 4s 1s/step - loss: 1.3196 - accuracy: 0.6600 - val_loss: 1.6422 - val_accuracy: 0.4714\n",
            "Epoch 32/100\n",
            "4/4 [==============================] - 4s 1s/step - loss: 1.2932 - accuracy: 0.6600 - val_loss: 1.6218 - val_accuracy: 0.5185\n",
            "Epoch 33/100\n",
            "4/4 [==============================] - 5s 2s/step - loss: 1.2765 - accuracy: 0.7000 - val_loss: 1.6068 - val_accuracy: 0.5197\n",
            "Epoch 34/100\n",
            "4/4 [==============================] - 5s 2s/step - loss: 1.2456 - accuracy: 0.6900 - val_loss: 1.5813 - val_accuracy: 0.5261\n",
            "Epoch 35/100\n",
            "4/4 [==============================] - 4s 1s/step - loss: 1.2245 - accuracy: 0.7000 - val_loss: 1.5686 - val_accuracy: 0.5269\n",
            "Epoch 36/100\n",
            "4/4 [==============================] - 5s 2s/step - loss: 1.2015 - accuracy: 0.7000 - val_loss: 1.5604 - val_accuracy: 0.5214\n",
            "Epoch 37/100\n",
            "4/4 [==============================] - 4s 1s/step - loss: 1.1911 - accuracy: 0.6900 - val_loss: 1.5538 - val_accuracy: 0.5317\n",
            "Epoch 38/100\n",
            "4/4 [==============================] - 3s 1s/step - loss: 1.1694 - accuracy: 0.6800 - val_loss: 1.5219 - val_accuracy: 0.5313\n",
            "Epoch 39/100\n",
            "4/4 [==============================] - 5s 2s/step - loss: 1.1495 - accuracy: 0.7100 - val_loss: 1.5119 - val_accuracy: 0.5292\n",
            "Epoch 40/100\n",
            "4/4 [==============================] - 5s 2s/step - loss: 1.1315 - accuracy: 0.7100 - val_loss: 1.4883 - val_accuracy: 0.5295\n",
            "Epoch 41/100\n",
            "4/4 [==============================] - 3s 1s/step - loss: 1.1114 - accuracy: 0.7000 - val_loss: 1.4792 - val_accuracy: 0.5055\n",
            "Epoch 42/100\n",
            "4/4 [==============================] - 3s 1s/step - loss: 1.0954 - accuracy: 0.7100 - val_loss: 1.4552 - val_accuracy: 0.5323\n",
            "Epoch 43/100\n",
            "4/4 [==============================] - 4s 1s/step - loss: 1.0762 - accuracy: 0.7200 - val_loss: 1.4396 - val_accuracy: 0.5281\n",
            "Epoch 44/100\n",
            "4/4 [==============================] - 5s 2s/step - loss: 1.0653 - accuracy: 0.7600 - val_loss: 1.4162 - val_accuracy: 0.5350\n",
            "Epoch 45/100\n",
            "4/4 [==============================] - 5s 2s/step - loss: 1.0441 - accuracy: 0.7200 - val_loss: 1.3946 - val_accuracy: 0.5644\n",
            "Epoch 46/100\n",
            "4/4 [==============================] - 6s 2s/step - loss: 1.0291 - accuracy: 0.8100 - val_loss: 1.3839 - val_accuracy: 0.5604\n",
            "Epoch 47/100\n",
            "4/4 [==============================] - 4s 1s/step - loss: 1.0073 - accuracy: 0.8000 - val_loss: 1.3750 - val_accuracy: 0.5564\n",
            "Epoch 48/100\n",
            "4/4 [==============================] - 5s 2s/step - loss: 0.9907 - accuracy: 0.8000 - val_loss: 1.3786 - val_accuracy: 0.5456\n",
            "Epoch 49/100\n",
            "4/4 [==============================] - 3s 1s/step - loss: 0.9748 - accuracy: 0.7700 - val_loss: 1.3652 - val_accuracy: 0.5486\n",
            "Epoch 50/100\n",
            "4/4 [==============================] - 3s 1s/step - loss: 0.9584 - accuracy: 0.7800 - val_loss: 1.3521 - val_accuracy: 0.5525\n",
            "Epoch 51/100\n",
            "4/4 [==============================] - 5s 2s/step - loss: 0.9430 - accuracy: 0.7700 - val_loss: 1.3388 - val_accuracy: 0.5548\n",
            "Epoch 52/100\n",
            "4/4 [==============================] - 5s 2s/step - loss: 0.9293 - accuracy: 0.7800 - val_loss: 1.3410 - val_accuracy: 0.5364\n",
            "Epoch 53/100\n",
            "4/4 [==============================] - 3s 1s/step - loss: 0.9236 - accuracy: 0.7500 - val_loss: 1.3253 - val_accuracy: 0.5494\n",
            "Epoch 54/100\n",
            "4/4 [==============================] - 5s 2s/step - loss: 0.9080 - accuracy: 0.8000 - val_loss: 1.3082 - val_accuracy: 0.5638\n",
            "Epoch 55/100\n",
            "4/4 [==============================] - 5s 2s/step - loss: 0.8873 - accuracy: 0.7900 - val_loss: 1.3018 - val_accuracy: 0.5607\n",
            "Epoch 56/100\n",
            "4/4 [==============================] - 4s 1s/step - loss: 0.8789 - accuracy: 0.7800 - val_loss: 1.3199 - val_accuracy: 0.5393\n",
            "Epoch 57/100\n",
            "4/4 [==============================] - 5s 2s/step - loss: 0.8777 - accuracy: 0.7400 - val_loss: 1.2797 - val_accuracy: 0.5706\n",
            "Epoch 58/100\n",
            "4/4 [==============================] - 3s 1s/step - loss: 0.8547 - accuracy: 0.8000 - val_loss: 1.2829 - val_accuracy: 0.5549\n",
            "Epoch 59/100\n",
            "4/4 [==============================] - 5s 2s/step - loss: 0.8527 - accuracy: 0.7700 - val_loss: 1.2711 - val_accuracy: 0.5604\n",
            "Epoch 60/100\n",
            "4/4 [==============================] - 3s 1s/step - loss: 0.8399 - accuracy: 0.7900 - val_loss: 1.2541 - val_accuracy: 0.5740\n",
            "Epoch 61/100\n",
            "4/4 [==============================] - 3s 1s/step - loss: 0.8203 - accuracy: 0.8100 - val_loss: 1.2608 - val_accuracy: 0.5666\n",
            "Epoch 62/100\n",
            "4/4 [==============================] - 4s 1s/step - loss: 0.8107 - accuracy: 0.8200 - val_loss: 1.2560 - val_accuracy: 0.5668\n",
            "Epoch 63/100\n",
            "4/4 [==============================] - 5s 2s/step - loss: 0.8040 - accuracy: 0.8000 - val_loss: 1.2646 - val_accuracy: 0.5454\n",
            "Epoch 64/100\n",
            "4/4 [==============================] - 5s 2s/step - loss: 0.8008 - accuracy: 0.7600 - val_loss: 1.2488 - val_accuracy: 0.5516\n",
            "Epoch 65/100\n",
            "4/4 [==============================] - 5s 2s/step - loss: 0.7829 - accuracy: 0.7800 - val_loss: 1.2343 - val_accuracy: 0.5636\n",
            "Epoch 66/100\n",
            "4/4 [==============================] - 3s 1s/step - loss: 0.7757 - accuracy: 0.7800 - val_loss: 1.2409 - val_accuracy: 0.5655\n",
            "Epoch 67/100\n",
            "4/4 [==============================] - 4s 1s/step - loss: 0.7783 - accuracy: 0.7600 - val_loss: 1.2133 - val_accuracy: 0.5745\n",
            "Epoch 68/100\n",
            "4/4 [==============================] - 5s 2s/step - loss: 0.7580 - accuracy: 0.7900 - val_loss: 1.2077 - val_accuracy: 0.5681\n",
            "Epoch 69/100\n",
            "4/4 [==============================] - 3s 1s/step - loss: 0.7462 - accuracy: 0.7900 - val_loss: 1.2190 - val_accuracy: 0.5533\n",
            "Epoch 70/100\n",
            "4/4 [==============================] - 5s 2s/step - loss: 0.7479 - accuracy: 0.8000 - val_loss: 1.1837 - val_accuracy: 0.5704\n",
            "Epoch 71/100\n",
            "4/4 [==============================] - 5s 2s/step - loss: 0.7266 - accuracy: 0.8100 - val_loss: 1.1663 - val_accuracy: 0.5834\n",
            "Epoch 72/100\n",
            "4/4 [==============================] - 3s 1s/step - loss: 0.7177 - accuracy: 0.8100 - val_loss: 1.1628 - val_accuracy: 0.5916\n",
            "Epoch 73/100\n",
            "4/4 [==============================] - 5s 2s/step - loss: 0.7138 - accuracy: 0.8200 - val_loss: 1.1605 - val_accuracy: 0.5902\n",
            "Epoch 74/100\n",
            "4/4 [==============================] - 3s 1s/step - loss: 0.7060 - accuracy: 0.8300 - val_loss: 1.1349 - val_accuracy: 0.6093\n",
            "Epoch 75/100\n",
            "4/4 [==============================] - 3s 1s/step - loss: 0.6937 - accuracy: 0.8500 - val_loss: 1.1277 - val_accuracy: 0.6192\n",
            "Epoch 76/100\n",
            "4/4 [==============================] - 5s 2s/step - loss: 0.6826 - accuracy: 0.8400 - val_loss: 1.1203 - val_accuracy: 0.6143\n",
            "Epoch 77/100\n",
            "4/4 [==============================] - 5s 2s/step - loss: 0.6730 - accuracy: 0.8500 - val_loss: 1.1257 - val_accuracy: 0.6105\n",
            "Epoch 78/100\n",
            "4/4 [==============================] - 4s 1s/step - loss: 0.6717 - accuracy: 0.8500 - val_loss: 1.1117 - val_accuracy: 0.6168\n",
            "Epoch 79/100\n",
            "4/4 [==============================] - 4s 1s/step - loss: 0.6610 - accuracy: 0.8400 - val_loss: 1.0929 - val_accuracy: 0.6398\n",
            "Epoch 80/100\n",
            "4/4 [==============================] - 5s 2s/step - loss: 0.6541 - accuracy: 0.8400 - val_loss: 1.0927 - val_accuracy: 0.6302\n",
            "Epoch 81/100\n",
            "4/4 [==============================] - 4s 1s/step - loss: 0.6448 - accuracy: 0.8400 - val_loss: 1.0892 - val_accuracy: 0.6302\n",
            "Epoch 82/100\n",
            "4/4 [==============================] - 3s 1s/step - loss: 0.6422 - accuracy: 0.8500 - val_loss: 1.1050 - val_accuracy: 0.6185\n",
            "Epoch 83/100\n",
            "4/4 [==============================] - 3s 1s/step - loss: 0.6384 - accuracy: 0.8600 - val_loss: 1.1179 - val_accuracy: 0.6100\n",
            "Epoch 84/100\n",
            "4/4 [==============================] - 3s 1s/step - loss: 0.6365 - accuracy: 0.8500 - val_loss: 1.0907 - val_accuracy: 0.6225\n",
            "Epoch 85/100\n",
            "4/4 [==============================] - 4s 1s/step - loss: 0.6220 - accuracy: 0.8400 - val_loss: 1.0958 - val_accuracy: 0.6120\n",
            "Epoch 86/100\n",
            "4/4 [==============================] - 3s 1s/step - loss: 0.6203 - accuracy: 0.8500 - val_loss: 1.0927 - val_accuracy: 0.6176\n",
            "Epoch 87/100\n",
            "4/4 [==============================] - 5s 2s/step - loss: 0.6111 - accuracy: 0.8800 - val_loss: 1.0783 - val_accuracy: 0.6277\n",
            "Epoch 88/100\n",
            "4/4 [==============================] - 5s 2s/step - loss: 0.5985 - accuracy: 0.8900 - val_loss: 1.0692 - val_accuracy: 0.6294\n",
            "Epoch 89/100\n",
            "4/4 [==============================] - 5s 2s/step - loss: 0.5919 - accuracy: 0.8900 - val_loss: 1.0743 - val_accuracy: 0.6195\n",
            "Epoch 90/100\n",
            "4/4 [==============================] - 5s 2s/step - loss: 0.5839 - accuracy: 0.9000 - val_loss: 1.0924 - val_accuracy: 0.6101\n",
            "Epoch 91/100\n",
            "4/4 [==============================] - 3s 1s/step - loss: 0.5872 - accuracy: 0.8900 - val_loss: 1.0954 - val_accuracy: 0.6087\n",
            "Epoch 92/100\n",
            "4/4 [==============================] - 3s 1s/step - loss: 0.5931 - accuracy: 0.8700 - val_loss: 1.0767 - val_accuracy: 0.6154\n",
            "Epoch 93/100\n",
            "4/4 [==============================] - 4s 1s/step - loss: 0.5748 - accuracy: 0.9000 - val_loss: 1.0840 - val_accuracy: 0.6059\n",
            "Epoch 94/100\n",
            "4/4 [==============================] - 5s 2s/step - loss: 0.5725 - accuracy: 0.9100 - val_loss: 1.0675 - val_accuracy: 0.6231\n",
            "Epoch 95/100\n",
            "4/4 [==============================] - 5s 2s/step - loss: 0.5670 - accuracy: 0.9000 - val_loss: 1.0495 - val_accuracy: 0.6326\n",
            "Epoch 96/100\n",
            "4/4 [==============================] - 4s 1s/step - loss: 0.5532 - accuracy: 0.9000 - val_loss: 1.0519 - val_accuracy: 0.6318\n",
            "Epoch 97/100\n",
            "4/4 [==============================] - 3s 1s/step - loss: 0.5510 - accuracy: 0.9000 - val_loss: 1.0347 - val_accuracy: 0.6436\n",
            "Epoch 98/100\n",
            "4/4 [==============================] - 3s 1s/step - loss: 0.5455 - accuracy: 0.9000 - val_loss: 1.0646 - val_accuracy: 0.6127\n",
            "Epoch 99/100\n",
            "4/4 [==============================] - 4s 1s/step - loss: 0.5404 - accuracy: 0.8900 - val_loss: 1.0474 - val_accuracy: 0.6265\n",
            "Epoch 100/100\n",
            "4/4 [==============================] - 3s 1s/step - loss: 0.5351 - accuracy: 0.8900 - val_loss: 1.0380 - val_accuracy: 0.6325\n"
          ]
        }
      ]
    },
    {
      "cell_type": "code",
      "metadata": {
        "id": "6E_gCaFy4Zhq",
        "colab": {
          "base_uri": "https://localhost:8080/",
          "height": 279
        },
        "outputId": "4830c53f-f5ed-471d-bcf6-9a2ca976b22c"
      },
      "source": [
        "# 5. 모델 학습 과정 표시하기\n",
        "%matplotlib inline\n",
        "import matplotlib.pyplot as plt\n",
        "\n",
        "fig, loss_ax = plt.subplots()\n",
        "\n",
        "acc_ax = loss_ax.twinx()\n",
        "\n",
        "loss_ax.plot(hist.history['loss'], 'y', label='train loss')\n",
        "loss_ax.plot(hist.history['val_loss'], 'r', label='val loss')\n",
        "\n",
        "acc_ax.plot(hist.history['accuracy'], 'b', label='train acc')\n",
        "acc_ax.plot(hist.history['val_accuracy'], 'g', label='val acc')\n",
        "\n",
        "loss_ax.set_xlabel('epoch')\n",
        "loss_ax.set_ylabel('loss')\n",
        "acc_ax.set_ylabel('accuray')\n",
        "\n",
        "loss_ax.legend(loc='upper left')\n",
        "acc_ax.legend(loc='lower left')\n",
        "\n",
        "plt.show()"
      ],
      "execution_count": 13,
      "outputs": [
        {
          "output_type": "display_data",
          "data": {
            "text/plain": [
              "<Figure size 432x288 with 2 Axes>"
            ],
            "image/png": "[encoded data removed]"
          },
          "metadata": {
            "needs_background": "light"
          }
        }
      ]
    },
    {
      "cell_type": "markdown",
      "source": [
        "# 모델 추론 결과를 제출해서 점수를 확인해보자\n",
        "\n",
        "아래 코드를 실행하면 시험셋의 X에 대한 모델 추론 결과를 파일로 저장할 수 있습니다. 이 파일에 대한 점수를 기록하고 싶다면, 아래 링크를 참고해주세요.\n",
        "\n",
        "https://aifactory.space/class/2312/discussion/199"
      ],
      "metadata": {
        "id": "VV3VUticrEc2"
      }
    },
    {
      "cell_type": "code",
      "source": [
        "y_pred = model.predict(X_test)\n",
        "y_pred = y_pred.argmax(axis=-1)\n",
        "np.savetxt('2312_y_pred.csv', y_pred, fmt='%d')"
      ],
      "metadata": {
        "id": "NSCHWpHamuYf",
        "colab": {
          "base_uri": "https://localhost:8080/"
        },
        "outputId": "ff578bf1-f151-4c79-f30c-0257ac435603"
      },
      "execution_count": 15,
      "outputs": [
        {
          "output_type": "stream",
          "name": "stdout",
          "text": [
            "313/313 [==============================] - 2s 4ms/step\n"
          ]
        }
      ]
    }
  ]
}