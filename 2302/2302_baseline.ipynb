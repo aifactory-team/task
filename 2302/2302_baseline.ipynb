{
  "cells": [
    {
      "cell_type": "code",
      "source": [
        "!pip install aifactory\n",
        "!pip install gradio\n",
        "!pip install openai\n",
        "!pip install wget\n",
        "!Pip install requests"
      ],
      "metadata": {
        "colab": {
          "base_uri": "https://localhost:8080/"
        },
        "id": "z8KuUeiDq953",
        "outputId": "b7f74261-65a5-4227-97e1-e3ff62ab71e0"
      },
      "execution_count": 80,
      "outputs": [
        {
          "output_type": "stream",
          "name": "stdout",
          "text": [
            "Looking in indexes: https://pypi.org/simple, https://us-python.pkg.dev/colab-wheels/public/simple/\n",
            "Requirement already satisfied: aifactory in /usr/local/lib/python3.9/dist-packages (1.5.17)\n",
            "Requirement already satisfied: gdown in /usr/local/lib/python3.9/dist-packages (from aifactory) (4.4.0)\n",
            "Requirement already satisfied: IPython in /usr/local/lib/python3.9/dist-packages (from aifactory) (7.9.0)\n",
            "Requirement already satisfied: requests in /usr/local/lib/python3.9/dist-packages (from aifactory) (2.25.1)\n",
            "Requirement already satisfied: ipynbname in /usr/local/lib/python3.9/dist-packages (from aifactory) (2021.3.2)\n",
            "Requirement already satisfied: pipreqs in /usr/local/lib/python3.9/dist-packages (from aifactory) (0.4.11)\n",
            "Requirement already satisfied: tqdm in /usr/local/lib/python3.9/dist-packages (from gdown->aifactory) (4.65.0)\n",
            "Requirement already satisfied: filelock in /usr/local/lib/python3.9/dist-packages (from gdown->aifactory) (3.9.0)\n",
            "Requirement already satisfied: six in /usr/local/lib/python3.9/dist-packages (from gdown->aifactory) (1.15.0)\n",
            "Requirement already satisfied: beautifulsoup4 in /usr/local/lib/python3.9/dist-packages (from gdown->aifactory) (4.6.3)\n",
            "Requirement already satisfied: ipykernel in /usr/local/lib/python3.9/dist-packages (from ipynbname->aifactory) (5.3.4)\n",
            "Requirement already satisfied: decorator in /usr/local/lib/python3.9/dist-packages (from IPython->aifactory) (4.4.2)\n",
            "Requirement already satisfied: backcall in /usr/local/lib/python3.9/dist-packages (from IPython->aifactory) (0.2.0)\n",
            "Requirement already satisfied: pickleshare in /usr/local/lib/python3.9/dist-packages (from IPython->aifactory) (0.7.5)\n",
            "Requirement already satisfied: setuptools>=18.5 in /usr/local/lib/python3.9/dist-packages (from IPython->aifactory) (57.4.0)\n",
            "Requirement already satisfied: traitlets>=4.2 in /usr/local/lib/python3.9/dist-packages (from IPython->aifactory) (5.7.1)\n",
            "Requirement already satisfied: prompt-toolkit<2.1.0,>=2.0.0 in /usr/local/lib/python3.9/dist-packages (from IPython->aifactory) (2.0.10)\n",
            "Requirement already satisfied: jedi>=0.10 in /usr/local/lib/python3.9/dist-packages (from IPython->aifactory) (0.18.2)\n",
            "Requirement already satisfied: pygments in /usr/local/lib/python3.9/dist-packages (from IPython->aifactory) (2.6.1)\n",
            "Requirement already satisfied: pexpect in /usr/local/lib/python3.9/dist-packages (from IPython->aifactory) (4.8.0)\n",
            "Requirement already satisfied: docopt in /usr/local/lib/python3.9/dist-packages (from pipreqs->aifactory) (0.6.2)\n",
            "Requirement already satisfied: yarg in /usr/local/lib/python3.9/dist-packages (from pipreqs->aifactory) (0.1.9)\n",
            "Requirement already satisfied: urllib3<1.27,>=1.21.1 in /usr/local/lib/python3.9/dist-packages (from requests->aifactory) (1.26.14)\n",
            "Requirement already satisfied: certifi>=2017.4.17 in /usr/local/lib/python3.9/dist-packages (from requests->aifactory) (2022.12.7)\n",
            "Requirement already satisfied: chardet<5,>=3.0.2 in /usr/local/lib/python3.9/dist-packages (from requests->aifactory) (4.0.0)\n",
            "Requirement already satisfied: idna<3,>=2.5 in /usr/local/lib/python3.9/dist-packages (from requests->aifactory) (2.10)\n",
            "Requirement already satisfied: parso<0.9.0,>=0.8.0 in /usr/local/lib/python3.9/dist-packages (from jedi>=0.10->IPython->aifactory) (0.8.3)\n",
            "Requirement already satisfied: wcwidth in /usr/local/lib/python3.9/dist-packages (from prompt-toolkit<2.1.0,>=2.0.0->IPython->aifactory) (0.2.6)\n",
            "Requirement already satisfied: tornado>=4.2 in /usr/local/lib/python3.9/dist-packages (from ipykernel->ipynbname->aifactory) (6.2)\n",
            "Requirement already satisfied: jupyter-client in /usr/local/lib/python3.9/dist-packages (from ipykernel->ipynbname->aifactory) (6.1.12)\n",
            "Requirement already satisfied: ptyprocess>=0.5 in /usr/local/lib/python3.9/dist-packages (from pexpect->IPython->aifactory) (0.7.0)\n",
            "Requirement already satisfied: PySocks!=1.5.7,>=1.5.6 in /usr/local/lib/python3.9/dist-packages (from requests->aifactory) (1.7.1)\n",
            "Requirement already satisfied: python-dateutil>=2.1 in /usr/local/lib/python3.9/dist-packages (from jupyter-client->ipykernel->ipynbname->aifactory) (2.8.2)\n",
            "Requirement already satisfied: jupyter-core>=4.6.0 in /usr/local/lib/python3.9/dist-packages (from jupyter-client->ipykernel->ipynbname->aifactory) (5.2.0)\n",
            "Requirement already satisfied: pyzmq>=13 in /usr/local/lib/python3.9/dist-packages (from jupyter-client->ipykernel->ipynbname->aifactory) (23.2.1)\n",
            "Requirement already satisfied: platformdirs>=2.5 in /usr/local/lib/python3.9/dist-packages (from jupyter-core>=4.6.0->jupyter-client->ipykernel->ipynbname->aifactory) (3.1.0)\n",
            "Looking in indexes: https://pypi.org/simple, https://us-python.pkg.dev/colab-wheels/public/simple/\n",
            "Requirement already satisfied: gradio in /usr/local/lib/python3.9/dist-packages (3.20.1)\n",
            "Requirement already satisfied: matplotlib in /usr/local/lib/python3.9/dist-packages (from gradio) (3.5.3)\n",
            "Requirement already satisfied: pycryptodome in /usr/local/lib/python3.9/dist-packages (from gradio) (3.17)\n",
            "Requirement already satisfied: python-multipart in /usr/local/lib/python3.9/dist-packages (from gradio) (0.0.6)\n",
            "Requirement already satisfied: pandas in /usr/local/lib/python3.9/dist-packages (from gradio) (1.3.5)\n",
            "Requirement already satisfied: ffmpy in /usr/local/lib/python3.9/dist-packages (from gradio) (0.3.0)\n",
            "Requirement already satisfied: markupsafe in /usr/local/lib/python3.9/dist-packages (from gradio) (2.1.2)\n",
            "Requirement already satisfied: fsspec in /usr/local/lib/python3.9/dist-packages (from gradio) (2023.3.0)\n",
            "Requirement already satisfied: jinja2 in /usr/local/lib/python3.9/dist-packages (from gradio) (3.1.2)\n",
            "Requirement already satisfied: aiofiles in /usr/local/lib/python3.9/dist-packages (from gradio) (23.1.0)\n",
            "Requirement already satisfied: markdown-it-py[linkify]>=2.0.0 in /usr/local/lib/python3.9/dist-packages (from gradio) (2.2.0)\n",
            "Requirement already satisfied: requests in /usr/local/lib/python3.9/dist-packages (from gradio) (2.25.1)\n",
            "Requirement already satisfied: uvicorn in /usr/local/lib/python3.9/dist-packages (from gradio) (0.21.0)\n",
            "Requirement already satisfied: pydub in /usr/local/lib/python3.9/dist-packages (from gradio) (0.25.1)\n",
            "Requirement already satisfied: pydantic in /usr/local/lib/python3.9/dist-packages (from gradio) (1.10.5)\n",
            "Requirement already satisfied: pyyaml in /usr/local/lib/python3.9/dist-packages (from gradio) (6.0)\n",
            "Requirement already satisfied: typing-extensions in /usr/local/lib/python3.9/dist-packages (from gradio) (4.5.0)\n",
            "Requirement already satisfied: websockets>=10.0 in /usr/local/lib/python3.9/dist-packages (from gradio) (10.4)\n",
            "Requirement already satisfied: pillow in /usr/local/lib/python3.9/dist-packages (from gradio) (8.4.0)\n",
            "Requirement already satisfied: orjson in /usr/local/lib/python3.9/dist-packages (from gradio) (3.8.7)\n",
            "Requirement already satisfied: numpy in /usr/local/lib/python3.9/dist-packages (from gradio) (1.22.4)\n",
            "Requirement already satisfied: aiohttp in /usr/local/lib/python3.9/dist-packages (from gradio) (3.8.4)\n",
            "Requirement already satisfied: altair>=4.2.0 in /usr/local/lib/python3.9/dist-packages (from gradio) (4.2.2)\n",
            "Requirement already satisfied: mdit-py-plugins<=0.3.3 in /usr/local/lib/python3.9/dist-packages (from gradio) (0.3.3)\n",
            "Requirement already satisfied: fastapi in /usr/local/lib/python3.9/dist-packages (from gradio) (0.93.0)\n",
            "Requirement already satisfied: httpx in /usr/local/lib/python3.9/dist-packages (from gradio) (0.23.3)\n",
            "Requirement already satisfied: toolz in /usr/local/lib/python3.9/dist-packages (from altair>=4.2.0->gradio) (0.12.0)\n",
            "Requirement already satisfied: entrypoints in /usr/local/lib/python3.9/dist-packages (from altair>=4.2.0->gradio) (0.4)\n",
            "Requirement already satisfied: jsonschema>=3.0 in /usr/local/lib/python3.9/dist-packages (from altair>=4.2.0->gradio) (4.3.3)\n",
            "Requirement already satisfied: mdurl~=0.1 in /usr/local/lib/python3.9/dist-packages (from markdown-it-py[linkify]>=2.0.0->gradio) (0.1.2)\n",
            "Requirement already satisfied: linkify-it-py<3,>=1 in /usr/local/lib/python3.9/dist-packages (from markdown-it-py[linkify]>=2.0.0->gradio) (2.0.0)\n",
            "Requirement already satisfied: python-dateutil>=2.7.3 in /usr/local/lib/python3.9/dist-packages (from pandas->gradio) (2.8.2)\n",
            "Requirement already satisfied: pytz>=2017.3 in /usr/local/lib/python3.9/dist-packages (from pandas->gradio) (2022.7.1)\n",
            "Requirement already satisfied: frozenlist>=1.1.1 in /usr/local/lib/python3.9/dist-packages (from aiohttp->gradio) (1.3.3)\n",
            "Requirement already satisfied: aiosignal>=1.1.2 in /usr/local/lib/python3.9/dist-packages (from aiohttp->gradio) (1.3.1)\n",
            "Requirement already satisfied: charset-normalizer<4.0,>=2.0 in /usr/local/lib/python3.9/dist-packages (from aiohttp->gradio) (3.1.0)\n",
            "Requirement already satisfied: async-timeout<5.0,>=4.0.0a3 in /usr/local/lib/python3.9/dist-packages (from aiohttp->gradio) (4.0.2)\n",
            "Requirement already satisfied: yarl<2.0,>=1.0 in /usr/local/lib/python3.9/dist-packages (from aiohttp->gradio) (1.8.2)\n",
            "Requirement already satisfied: attrs>=17.3.0 in /usr/local/lib/python3.9/dist-packages (from aiohttp->gradio) (22.2.0)\n",
            "Requirement already satisfied: multidict<7.0,>=4.5 in /usr/local/lib/python3.9/dist-packages (from aiohttp->gradio) (6.0.4)\n",
            "Requirement already satisfied: starlette<0.26.0,>=0.25.0 in /usr/local/lib/python3.9/dist-packages (from fastapi->gradio) (0.25.0)\n",
            "Requirement already satisfied: httpcore<0.17.0,>=0.15.0 in /usr/local/lib/python3.9/dist-packages (from httpx->gradio) (0.16.3)\n",
            "Requirement already satisfied: certifi in /usr/local/lib/python3.9/dist-packages (from httpx->gradio) (2022.12.7)\n",
            "Requirement already satisfied: sniffio in /usr/local/lib/python3.9/dist-packages (from httpx->gradio) (1.3.0)\n",
            "Requirement already satisfied: rfc3986[idna2008]<2,>=1.3 in /usr/local/lib/python3.9/dist-packages (from httpx->gradio) (1.5.0)\n",
            "Requirement already satisfied: kiwisolver>=1.0.1 in /usr/local/lib/python3.9/dist-packages (from matplotlib->gradio) (1.4.4)\n",
            "Requirement already satisfied: fonttools>=4.22.0 in /usr/local/lib/python3.9/dist-packages (from matplotlib->gradio) (4.39.0)\n",
            "Requirement already satisfied: cycler>=0.10 in /usr/local/lib/python3.9/dist-packages (from matplotlib->gradio) (0.11.0)\n",
            "Requirement already satisfied: pyparsing>=2.2.1 in /usr/local/lib/python3.9/dist-packages (from matplotlib->gradio) (3.0.9)\n",
            "Requirement already satisfied: packaging>=20.0 in /usr/local/lib/python3.9/dist-packages (from matplotlib->gradio) (23.0)\n",
            "Requirement already satisfied: urllib3<1.27,>=1.21.1 in /usr/local/lib/python3.9/dist-packages (from requests->gradio) (1.26.14)\n",
            "Requirement already satisfied: chardet<5,>=3.0.2 in /usr/local/lib/python3.9/dist-packages (from requests->gradio) (4.0.0)\n",
            "Requirement already satisfied: idna<3,>=2.5 in /usr/local/lib/python3.9/dist-packages (from requests->gradio) (2.10)\n",
            "Requirement already satisfied: click>=7.0 in /usr/local/lib/python3.9/dist-packages (from uvicorn->gradio) (8.1.3)\n",
            "Requirement already satisfied: h11>=0.8 in /usr/local/lib/python3.9/dist-packages (from uvicorn->gradio) (0.14.0)\n",
            "Requirement already satisfied: anyio<5.0,>=3.0 in /usr/local/lib/python3.9/dist-packages (from httpcore<0.17.0,>=0.15.0->httpx->gradio) (3.6.2)\n",
            "Requirement already satisfied: pyrsistent!=0.17.0,!=0.17.1,!=0.17.2,>=0.14.0 in /usr/local/lib/python3.9/dist-packages (from jsonschema>=3.0->altair>=4.2.0->gradio) (0.19.3)\n",
            "Requirement already satisfied: uc-micro-py in /usr/local/lib/python3.9/dist-packages (from linkify-it-py<3,>=1->markdown-it-py[linkify]>=2.0.0->gradio) (1.0.1)\n",
            "Requirement already satisfied: six>=1.5 in /usr/local/lib/python3.9/dist-packages (from python-dateutil>=2.7.3->pandas->gradio) (1.15.0)\n",
            "Looking in indexes: https://pypi.org/simple, https://us-python.pkg.dev/colab-wheels/public/simple/\n",
            "Requirement already satisfied: openai in /usr/local/lib/python3.9/dist-packages (0.27.1)\n",
            "Requirement already satisfied: requests>=2.20 in /usr/local/lib/python3.9/dist-packages (from openai) (2.25.1)\n",
            "Requirement already satisfied: aiohttp in /usr/local/lib/python3.9/dist-packages (from openai) (3.8.4)\n",
            "Requirement already satisfied: tqdm in /usr/local/lib/python3.9/dist-packages (from openai) (4.65.0)\n",
            "Requirement already satisfied: chardet<5,>=3.0.2 in /usr/local/lib/python3.9/dist-packages (from requests>=2.20->openai) (4.0.0)\n",
            "Requirement already satisfied: idna<3,>=2.5 in /usr/local/lib/python3.9/dist-packages (from requests>=2.20->openai) (2.10)\n",
            "Requirement already satisfied: certifi>=2017.4.17 in /usr/local/lib/python3.9/dist-packages (from requests>=2.20->openai) (2022.12.7)\n",
            "Requirement already satisfied: urllib3<1.27,>=1.21.1 in /usr/local/lib/python3.9/dist-packages (from requests>=2.20->openai) (1.26.14)\n",
            "Requirement already satisfied: attrs>=17.3.0 in /usr/local/lib/python3.9/dist-packages (from aiohttp->openai) (22.2.0)\n",
            "Requirement already satisfied: charset-normalizer<4.0,>=2.0 in /usr/local/lib/python3.9/dist-packages (from aiohttp->openai) (3.1.0)\n",
            "Requirement already satisfied: yarl<2.0,>=1.0 in /usr/local/lib/python3.9/dist-packages (from aiohttp->openai) (1.8.2)\n",
            "Requirement already satisfied: async-timeout<5.0,>=4.0.0a3 in /usr/local/lib/python3.9/dist-packages (from aiohttp->openai) (4.0.2)\n",
            "Requirement already satisfied: aiosignal>=1.1.2 in /usr/local/lib/python3.9/dist-packages (from aiohttp->openai) (1.3.1)\n",
            "Requirement already satisfied: frozenlist>=1.1.1 in /usr/local/lib/python3.9/dist-packages (from aiohttp->openai) (1.3.3)\n",
            "Requirement already satisfied: multidict<7.0,>=4.5 in /usr/local/lib/python3.9/dist-packages (from aiohttp->openai) (6.0.4)\n",
            "Looking in indexes: https://pypi.org/simple, https://us-python.pkg.dev/colab-wheels/public/simple/\n",
            "Requirement already satisfied: wget in /usr/local/lib/python3.9/dist-packages (3.2)\n"
          ]
        }
      ]
    },
    {
      "cell_type": "markdown",
      "source": [
        "# 모델 추론 함수"
      ],
      "metadata": {
        "id": "68rFa0hYWSeY"
      }
    },
    {
      "cell_type": "code",
      "source": [
        "import numpy as np\n",
        "from PIL import Image\n",
        "from skimage import io\n",
        "import plotly.express as px\n",
        "import plotly.graph_objects as go\n",
        "import requests\n",
        "\n",
        "import json\n",
        "import numpy as np\n",
        "\n",
        "def predict_image(img_input, messages):\n",
        "\n",
        "    url = \"http://34.168.13.204:8000/predict\"\n",
        "\n",
        "    print(img_input)\n",
        "    dfile = open(img_input, \"rb\")\n",
        "    test_res = requests.post(url, files = {\"file\": dfile})\n",
        "    dfile.close()\n",
        "\n",
        "    if test_res.ok != True:\n",
        "        state = [(None, \"고서한자 이미지가 제대로 업로드 되지 않았습니다.\")]\n",
        "        return None, state, messages \n",
        "\n",
        "    preds = json.loads(test_res.text) # string to dict\n",
        "\n",
        "    img = np.array(Image.open(img_input))\n",
        "    img_output = px.imshow(img)\n",
        "    img_output.update_xaxes(visible=False)\n",
        "    img_output.update_yaxes(visible=False)\n",
        "    img_output.update_layout(coloraxis_showscale=False, height=800)\n",
        "\n",
        "    labels = []\n",
        "    chars = []\n",
        "\n",
        "    for pred in list(preds.values())[0]:\n",
        "        label = pred['label'] # Pred label\n",
        "        \n",
        "        x1, y1, w, h = [int(x) for x in pred['bbox']]\n",
        "\n",
        "        chars.append((x1, y1, label))\n",
        "\n",
        "        labels.append(label + \"(\" + str(x1) +\",\" + str(y1) + \")\")\n",
        "\n",
        "        x2, y2 = int(x1+w), int(y1+h)\n",
        "        box = np.array([[x1,y1],[x2,y1],[x2,y2],[x1,y2],[x1,y1]])\n",
        "        # Draw each bbox\n",
        "        img_output.add_trace(\n",
        "            go.Scatter(\n",
        "            x=box[:,0], y=box[:,1], mode='lines', line_color='red', name=label, opacity=0.7, showlegend=False))\n",
        "\n",
        "    chars.sort()\n",
        "\n",
        "    # 출력 항목을 고서 읽는 방향으로 정렬시킵니다.\n",
        "\n",
        "    sorted_chars = []\n",
        "    seed = chars[0][0]\n",
        "    index_count = 99\n",
        "\n",
        "    for c in chars:\n",
        "        calc = c[0] - seed\n",
        "        if calc > 100:\n",
        "            index_count -= 1\n",
        "            seed = c[0]\n",
        "        sorted_chars.append((index_count, c[1], c[2]))\n",
        "\n",
        "    sorted_chars.sort()\n",
        "\n",
        "    # 정렬된 항목에서 라벨값만 추출하여 문장을 구성합니다.\n",
        "\n",
        "    sorted_sentence = \"\"\n",
        "    for sc in sorted_chars:\n",
        "        sorted_sentence += sc[2]\n",
        "        \n",
        "    messages.append({\"role\" : \"system\", \"content\": \"다음의 조선시대 고서 원문 한자를 원문과 비교하여 한 문장씩 한글로 풀어서 쉽게 변역합니다. 이어서 종합적인 해석문을 작성합니다.\"})\n",
        "    messages.append({\"role\" : \"user\", \"content\": \"원문: \" + f\"{sorted_sentence}\"})\n",
        "    \n",
        "    import openai\n",
        "\n",
        "    openai.api_key = \"OpenAI API Key\" # 수정필요\n",
        "                                \n",
        "    res = openai.ChatCompletion.create(model=\"gpt-3.5-turbo\", messages=messages)\n",
        "\n",
        "    messages.append({\"role\" : \"assistant\", \"content\": res['choices'][0]['message']['content']})\n",
        "\n",
        "    chatbot = []\n",
        "\n",
        "    for msg in messages:\n",
        "        if msg[\"role\"] == \"user\":\n",
        "            chatbot.append((msg[\"content\"], None))\n",
        "        elif msg[\"role\"] == \"assistant\":\n",
        "            chatbot.append((None, msg[\"content\"]))\n",
        "\n",
        "    return img_output, chatbot, messages\n",
        "\n",
        "def predict_chat(txt_input, messages):\n",
        "\n",
        "    import openai\n",
        "\n",
        "    messages.append({\"role\" : \"user\", \"content\": f\"{txt_input}\\n\"})\n",
        "\n",
        "    openai.api_key = \"OpenAI API Key\" # 수정필요\n",
        "                                \n",
        "    res = openai.ChatCompletion.create(model=\"gpt-3.5-turbo\", messages=messages)\n",
        "\n",
        "    messages.append({\"role\" : \"assistant\", \"content\": res['choices'][0]['message']['content']})\n",
        "\n",
        "    chatbot = []\n",
        "\n",
        "    for msg in messages:\n",
        "        if msg[\"role\"] == \"user\":\n",
        "            chatbot.append((msg[\"content\"], None))\n",
        "        elif msg[\"role\"] == \"assistant\":\n",
        "            chatbot.append((None, msg[\"content\"]))\n",
        "\n",
        "    return chatbot, messages\n",
        "\n",
        "def gui_interface(predict_image_func, predict_chat_func):\n",
        "\n",
        "    import gradio as gr\n",
        "    import wget\n",
        "    import os\n",
        "\n",
        "    exam_imgs = ['example_1.jpg', 'example_2.jpg', 'example_3.jpg']\n",
        "\n",
        "    for img_item in exam_imgs:\n",
        "        wget.download(\"https://raw.githubusercontent.com/aifactory-team/AFCompetition/main/2302/\" + img_item,\n",
        "                      os.getcwd() + \"/\" + img_item)\n",
        "\n",
        "    with gr.Blocks() as demo:\n",
        "        \n",
        "        # define components\n",
        "        state = gr.State([])\n",
        "\n",
        "        gr.Markdown(\n",
        "        \"\"\"\n",
        "        # 고서이미지번역GPT\n",
        "        고서 이미지를 업로드 한 후 [분석요청] 버튼을 누르시면, OCR AI 모델이 한자를 추출합니다. 그리고 챗GPT가 추출한 한자 문장을 한국어로 번역해드립니다. 그 후에는 챗GPT와 자유롭게 내용에 대해 대화를 나누실 수 있습니다.\n",
        "        \n",
        "        ### 참고사항\n",
        "        * 고서 이미지를 분석하는 시간이 80~90초 정도 걸리니 [분석요청] 버튼 클릭 후 잠시 기다려주시면 감사하겠습니다.\n",
        "        * 챗GPT의 고서한자 번역 성능이 검증되지 않았으며, 고서한자 번역한 내용이 정확하지 않을 수 있습니다. \n",
        "        \"\"\")\n",
        "\n",
        "        with gr.Row():\n",
        "            with gr.Column(scale=0.5):\n",
        "                img_input = gr.Image(type='filepath', label='Input Image')\n",
        "                btn_analysis = gr.Button(\"분석요청\")\n",
        "                examples = gr.Examples(examples=['example_1.jpg', 'example_2.jpg', 'example_3.jpg'], inputs=[img_input])\n",
        "\n",
        "            with gr.Column(scale=0.5):\n",
        "                img_output = gr.Plot()\n",
        "\n",
        "        with gr.Row():\n",
        "            chatbot = gr.Chatbot()\n",
        "        \n",
        "        with gr.Row():            \n",
        "            txt_input = gr.Textbox(show_label=False, placeholder=\"Enter text and press enter\").style(container=False)\n",
        "\n",
        "        # define action\n",
        "        btn_analysis.click(fn = predict_image_func, \n",
        "                            inputs = [img_input, state],\n",
        "                            outputs = [img_output, chatbot, state])\n",
        "        txt_input.submit(fn = predict_chat_func, \n",
        "                         inputs = [txt_input, state], \n",
        "                         outputs = [chatbot, state])\n",
        "        txt_input.submit(lambda :\"\", None, txt_input)\n",
        "\n",
        "    demo.launch(server_name=\"0.0.0.0\", debug=True)\n",
        "\n",
        "def predict():\n",
        "    return [predict_image, predict_chat, gui_interface]"
      ],
      "metadata": {
        "id": "CdgNSHITpiER"
      },
      "execution_count": 85,
      "outputs": []
    },
    {
      "cell_type": "markdown",
      "source": [
        "# 모델 테스트"
      ],
      "metadata": {
        "id": "nk0jqcGJtya2"
      }
    },
    {
      "cell_type": "code",
      "source": [
        "import os\n",
        "\n",
        "os.environ[\"API_ADDRESS\"] = 'https://0.0.0.0'\n",
        "os.environ[\"DEMOAPI_ID\"] = '0000'\n",
        "\n",
        "import requests\n",
        "\n",
        "api_env = os.environ['API_ADDRESS']\n",
        "demo_id = os.environ['DEMOAPI_ID']\n",
        "\n",
        "def sendResultForDemoAPI(error_msg):\n",
        "    res = requests.post(api_env, json= {'dtype': 2, 'id': demo_id, 'error': error_msg})\n",
        "    return\n",
        "\n",
        "def sendResultForDemoAPIWithID(demoid, error_msg):\n",
        "    res = requests.post(api_env, json= {'dtype': 2, 'id': demo_id, 'error': error_msg})\n",
        "    return\n",
        "\n",
        "def demo_from_submission(key, pyname, func):\n",
        "\n",
        "    try:\n",
        "        _predict_image_func, _predict_chat_func, _gui_interface_func = func()\n",
        "\n",
        "        _gui_interface_func(_predict_image_func, _predict_chat_func)\n",
        "\n",
        "    except Exception as e:\n",
        "        sendResultForDemoAPI(str(e))\n",
        "\n",
        "if __name__ == \"__main__\":\n",
        "    demo_from_submission(\"\",\"\", predict)"
      ],
      "metadata": {
        "colab": {
          "base_uri": "https://localhost:8080/",
          "height": 673
        },
        "id": "sqctkyrop23K",
        "outputId": "7a753ecb-2819-46a2-d197-4da7dded139e"
      },
      "execution_count": 84,
      "outputs": [
        {
          "output_type": "stream",
          "name": "stdout",
          "text": [
            "Colab notebook detected. This cell will run indefinitely so that you can see errors and logs. To turn off, set debug=False in launch().\n",
            "Note: opening Chrome Inspector may crash demo inside Colab notebooks.\n",
            "\n",
            "To create a public link, set `share=True` in `launch()`.\n"
          ]
        },
        {
          "output_type": "display_data",
          "data": {
            "text/plain": [
              "<IPython.core.display.Javascript object>"
            ],
            "application/javascript": [
              "(async (port, path, width, height, cache, element) => {\n",
              "                        if (!google.colab.kernel.accessAllowed && !cache) {\n",
              "                            return;\n",
              "                        }\n",
              "                        element.appendChild(document.createTextNode(''));\n",
              "                        const url = await google.colab.kernel.proxyPort(port, {cache});\n",
              "\n",
              "                        const external_link = document.createElement('div');\n",
              "                        external_link.innerHTML = `\n",
              "                            <div style=\"font-family: monospace; margin-bottom: 0.5rem\">\n",
              "                                Running on <a href=${new URL(path, url).toString()} target=\"_blank\">\n",
              "                                    https://localhost:${port}${path}\n",
              "                                </a>\n",
              "                            </div>\n",
              "                        `;\n",
              "                        element.appendChild(external_link);\n",
              "\n",
              "                        const iframe = document.createElement('iframe');\n",
              "                        iframe.src = new URL(path, url).toString();\n",
              "                        iframe.height = height;\n",
              "                        iframe.allow = \"autoplay; camera; microphone; clipboard-read; clipboard-write;\"\n",
              "                        iframe.width = width;\n",
              "                        iframe.style.border = 0;\n",
              "                        element.appendChild(iframe);\n",
              "                    })(7860, \"/\", \"100%\", 500, false, window.element)"
            ]
          },
          "metadata": {}
        },
        {
          "output_type": "stream",
          "name": "stdout",
          "text": [
            "/tmp/tmpfw64ho5_.png\n",
            "Keyboard interruption in main thread... closing server.\n"
          ]
        },
        {
          "output_type": "execute_result",
          "data": {
            "text/plain": [
              "''"
            ],
            "application/vnd.google.colaboratory.intrinsic+json": {
              "type": "string"
            }
          },
          "metadata": {},
          "execution_count": 84
        }
      ]
    },
    {
      "cell_type": "markdown",
      "source": [
        "# 모델 제출\n",
        "\n",
        "AIFactory 플랫폼을 통해서 개발한 모델을 쉽게 배포하여 서비스를 구동할 수 있습니다. 이 서비스를 이용하기 위해서는 AIFactory에 태스크를 등록한 후 모델을 제출해야하는데요. 아래 코드가 AIFactory에 제출하는 코드입니다. 더 자세한 것이 궁금하시다면 contact@aifactory.page로 연락주세요."
      ],
      "metadata": {
        "id": "_5wGkD5GWW9_"
      }
    },
    {
      "cell_type": "code",
      "source": [
        "'''\n",
        "import aifactory.grade as aif\n",
        "import ipynbname\n",
        "import os\n",
        "\n",
        "if __name__ == \"__main__\":  \n",
        "    filename = ''\n",
        "    try: \n",
        "        filename = ipynbname.name()\n",
        "    except Exception as e:\n",
        "        filename = os.path.basename(__file__)\n",
        "    print(filename)\n",
        "    aif.submit(\"AIFactory 제출 키\", filename, predict)\n",
        "'''    "
      ],
      "metadata": {
        "colab": {
          "base_uri": "https://localhost:8080/"
        },
        "id": "Zdx6oS9CWCdK",
        "outputId": "ba29f8eb-5e3d-4f04-b20e-0687d3f066c8"
      },
      "execution_count": 86,
      "outputs": [
        {
          "output_type": "stream",
          "name": "stdout",
          "text": [
            "fileId=1ZJk-7OOEpHyD0klGQ8xtl3tq-3vn0gmM\n",
            "Running on CoLab\n",
            "google colab\n"
          ]
        },
        {
          "output_type": "stream",
          "name": "stderr",
          "text": [
            "Downloading...\n",
            "From: https://drive.google.com/uc?id=1ZJk-7OOEpHyD0klGQ8xtl3tq-3vn0gmM\n",
            "To: /content/task.ipynb\n",
            "100%|██████████| 27.1k/27.1k [00:00<00:00, 11.9MB/s]\n"
          ]
        },
        {
          "output_type": "stream",
          "name": "stdout",
          "text": [
            "success\n"
          ]
        }
      ]
    }
  ],
  "metadata": {
    "colab": {
      "provenance": []
    },
    "kernelspec": {
      "display_name": "Python 3",
      "name": "python3"
    },
    "language_info": {
      "name": "python"
    }
  },
  "nbformat": 4,
  "nbformat_minor": 0
}